{
  "cells": [
    {
      "cell_type": "markdown",
      "metadata": {
        "id": "view-in-github",
        "colab_type": "text"
      },
      "source": [
        "<a href=\"https://colab.research.google.com/github/sahasubhajit/Tree-Graph-Search-Algorithms/blob/main/tree_searching.ipynb\" target=\"_parent\"><img src=\"https://colab.research.google.com/assets/colab-badge.svg\" alt=\"Open In Colab\"/></a>"
      ]
    },
    {
      "cell_type": "code",
      "execution_count": 1,
      "metadata": {
        "id": "5SXHddBvEveN"
      },
      "outputs": [],
      "source": [
        "import numpy as np\n",
        "from min_heap import min_heap_push, min_heap_pop"
      ]
    },
    {
      "cell_type": "markdown",
      "source": [
        "# Denote the edges by adjacency matrix"
      ],
      "metadata": {
        "id": "Bj0xXAxuujKb"
      }
    },
    {
      "cell_type": "code",
      "execution_count": 2,
      "metadata": {
        "id": "Wvsi44hZAqKv"
      },
      "outputs": [],
      "source": [
        "def create_tree(numner_of_nodes, edges):\n",
        "  adjancency_matrix = np.zeros([numner_of_nodes, numner_of_nodes])\n",
        "  #print(adjancency_matrix[0,0])\n",
        "  for edge in edges:\n",
        "    #print(edge, adjancency_matrix[edge[0], edge[1]])\n",
        "    adjancency_matrix[edge[0], edge[1]] = 1\n",
        "    adjancency_matrix[edge[1], edge[0]] = 1\n",
        "  return adjancency_matrix"
      ]
    },
    {
      "cell_type": "markdown",
      "source": [
        "#Algorithm of the search"
      ],
      "metadata": {
        "id": "6h8mGKkH_jJH"
      }
    },
    {
      "cell_type": "code",
      "source": [
        "class SEARCH:\n",
        "\n",
        "  def __init__(self, tree, values):\n",
        "    self.tree = tree\n",
        "    self.paths = [[0]]\n",
        "    self.node_values = values\n",
        "\n",
        "\n",
        "  def add_path(self, node_index):\n",
        "    for upper_node_index in range(node_index):\n",
        "      #print(upper_node_index, self.tree[int(self.front)][upper_node_index])\n",
        "      if int(self.tree[int(node_index)][upper_node_index]) == 1:\n",
        "        for existing_path in self.paths:\n",
        "            if existing_path[len(existing_path) - 1] == upper_node_index:\n",
        "              self.new_path = existing_path.copy()\n",
        "              self.new_path.append(node_index)\n",
        "              self.paths.append(self.new_path)\n",
        "              #print(\"After adding Path \", self.paths)\n",
        "\n",
        "\n",
        "  def delete_path(self, node_index):\n",
        "    for self.existing_path in self.paths:\n",
        "      if self.existing_path[len(self.existing_path) - 1] == node_index:\n",
        "        self.paths.remove(self.existing_path)\n",
        "        #print(\"After deleting Path \", self.paths)\n",
        "\n",
        "\n",
        "\n",
        "\n",
        "\n",
        "class BFS(SEARCH):\n",
        "\n",
        "  def __init__(self, tree, values):\n",
        "    super().__init__(tree, values)\n",
        "\n",
        "  def enque(self, queue, node):\n",
        "    #print(\"From function \", queue)\n",
        "    self.queue_new = np.zeros(len(queue) + 1)\n",
        "    self.queue_new[:len(queue)] = queue\n",
        "    self.queue_new[len(queue)] = node\n",
        "    del queue\n",
        "    return self.queue_new\n",
        "\n",
        "\n",
        "  def denque(self, queue):\n",
        "    self.queue_new = queue[1:len(queue)]\n",
        "    self.front = queue[0]\n",
        "    del queue\n",
        "    return self.queue_new, int(self.front)\n",
        "\n",
        "\n",
        "\n",
        "  def run_bfs(self, root, target):\n",
        "    self.queue =  np.array([root])\n",
        "    self.depth = 0\n",
        "    flag = 0\n",
        "    if self.node_values[root] == target:\n",
        "      return self.paths[0]\n",
        "    else:\n",
        "      while len(self.queue):\n",
        "        #print(\"Queue \", self.queue)\n",
        "        #print(\"Paths \", self.paths)\n",
        "        self.queue, self.front = self.denque(self.queue)\n",
        "        print(\"After DnQueue \", self.queue)\n",
        "        #print(\"denque \", self.queue)\n",
        "        for node in range(self.tree.shape[0]):\n",
        "          if (self.tree[int(self.front)][node] == 1 and node > self.front) == True:\n",
        "            print(\"Front: \", self.front, \"Node: \", node)\n",
        "            self.add_path(node)\n",
        "            self.queue = self.enque(self.queue, node)\n",
        "            print(\"After EnQueue \", self.queue)\n",
        "            if target == self.node_values[node]:\n",
        "              print(\"Goal Reached\", target, node)\n",
        "              self.queue = []\n",
        "              flag = 1\n",
        "              break\n",
        "        self.delete_path(self.front)\n",
        "      if flag == 0:\n",
        "        print(\"No solution Exist! check the input node values\")\n",
        "        return -1\n",
        "      else:\n",
        "        return self.paths[len(self.paths)-1]\n",
        "\n",
        "\n",
        "\n",
        "\n",
        "\n",
        "\n",
        "class DFS(SEARCH):\n",
        "\n",
        "  def __init__(self, tree, values):\n",
        "    super().__init__(tree, values)\n",
        "    self.stack =  np.array([0])\n",
        "    self.closed_list = []\n",
        "    self.flag = 0\n",
        "    self.depth = 0\n",
        "\n",
        "  def push(self, stack, node):\n",
        "    #print(\"From function \", queue)\n",
        "    self.stack_new = np.zeros(len(stack) + 1)\n",
        "    self.stack_new[:len(stack)] = stack\n",
        "    self.stack_new[len(stack)] = node\n",
        "    #print(\"push! new {} previous {}\".format(self.stack_new, self.stack))\n",
        "    del stack\n",
        "    return self.stack_new\n",
        "\n",
        "\n",
        "  def pop(self, stack):\n",
        "    self.stack_new = stack[0:len(stack)-1]\n",
        "    self.rear = stack[len(stack)-2]\n",
        "    del stack\n",
        "    #print(\"pop! new {} previous {}\".format(self.stack_new, self.stack))\n",
        "    return self.stack_new, self.rear\n",
        "\n",
        "\n",
        "  def run_dfs(self, root, target, max_depth = 99999):\n",
        "    self.max_depth = max_depth\n",
        "    self.rear = root\n",
        "    #self.depth = 0\n",
        "    #self.flag = 0\n",
        "    print(\"closed list {} and stack {} and depth {}\".format(self.closed_list, self.stack, self.max_depth))\n",
        "    if self.node_values[self.rear] == target:\n",
        "      self.flag = 1\n",
        "      self.stack = []\n",
        "      return self.paths[len(self.paths)-1]\n",
        "    else:\n",
        "      while len(self.stack):\n",
        "        temp = 0\n",
        "        for node in range(self.tree.shape[0]):\n",
        "          if (self.tree[int(self.rear)][node] == 1 and node > self.rear and node not in self.closed_list and self.depth < self.max_depth):\n",
        "            temp += 1\n",
        "            self.depth += 1\n",
        "            #print(\"temp: \", temp, \"Rear: \", self.rear, \"Node: \", node)\n",
        "            self.add_path(node)\n",
        "            self.stack = self.push(self.stack, node)\n",
        "            self.run_dfs(node, target, self.max_depth)\n",
        "        if temp ==0:\n",
        "            self.closed_list.append(self.rear)\n",
        "            self.stack, self.rear = self.pop(self.stack)\n",
        "            self.depth -= 1\n",
        "            self.run_dfs(int(self.rear), target, self.max_depth)\n",
        "\n",
        "\n",
        "    if self.flag == 0:\n",
        "      print(\"No solution Exist! check the input node values\")\n",
        "      return -1\n",
        "    else:\n",
        "      return self.paths[len(self.paths)-1]\n",
        "\n",
        "\n",
        "\n",
        "  def run_iterative_dfs(self, root, target):\n",
        "    output = -1\n",
        "    count = 0\n",
        "    self.max_depth = 0\n",
        "    while output == -1:\n",
        "      self.stack =  np.array([0])\n",
        "      self.closed_list = []\n",
        "      self.flag = 0\n",
        "      self.depth = 0\n",
        "      output = self.run_dfs(root, target, self.max_depth)\n",
        "      self.max_depth += 1\n",
        "      print(self.max_depth, output)\n",
        "      count += 1\n",
        "      if len(self.closed_list) == len(self.node_values):\n",
        "        output = -1\n",
        "        break\n",
        "    return output\n",
        "\n",
        "\n",
        "class UNIFORM_COST_SEARCH(SEARCH):\n",
        "    def __init__(self, tree, values, graph, straight_line):\n",
        "      super().__init__(tree, values)\n",
        "      self.priority_queue =  [{'Arad':0}] #initial path cost\n",
        "      self.closed_list = []\n",
        "      self.flag = 0\n",
        "      self.depth = 0\n",
        "      self.paths = [[0]]\n",
        "      self.GRAPH = graph\n",
        "      self.straight_lines = straight_line\n",
        "      self.previously_visited_nodes = []\n",
        "      self.traversed_paths = []\n",
        "\n",
        "\n",
        "    def search_neighbours_with_cost(self, node_index, node_cost):\n",
        "      node_name = self.straight_lines[str(node_index)]['Name']\n",
        "      #print(node_name)\n",
        "      temp_subgraph = self.GRAPH[node_name]\n",
        "      neighbour_names = list(temp_subgraph.keys())\n",
        "      for neighbour in range(len(neighbour_names)):\n",
        "         #print(\"neighbour\", neighbour_names[neighbour])\n",
        "         if neighbour_names[neighbour] not in self.previously_visited_nodes:\n",
        "          temp_subgraph[neighbour_names[neighbour]] += node_cost\n",
        "          #self.add_path(temp_subgraph[neighbour_names[neighbour]])\n",
        "         else:\n",
        "          del temp_subgraph[neighbour_names[neighbour]]\n",
        "      return temp_subgraph\n",
        "\n",
        "\n",
        "    def heap_push(self, node):\n",
        "      self.priority_queue  = min_heap_push(self.priority_queue, node)\n",
        "      return self.priority_queue\n",
        "\n",
        "    def heap_pop(self):\n",
        "      return min_heap_pop(self.priority_queue)\n",
        "\n",
        "\n",
        "    def run_ucs(self, target, root_index = 0):\n",
        "      if self.straight_lines[str(root_index)]['Name'] == target:\n",
        "        return [], 0\n",
        "      else:\n",
        "        present_node_index = root_index\n",
        "        present_node_cost = 0\n",
        "        while True:\n",
        "          self.priority_queue, poped = self.heap_pop()\n",
        "          self.previously_visited_nodes.append(list(poped)[0])\n",
        "          self.add_path(int({value['Name']: key for key, value in self.straight_lines.items()}[list(poped)[0]]))\n",
        "          for i in range(len(self.straight_lines)):\n",
        "            if self.straight_lines[str(i)]['Name'] == list(poped)[0]:\n",
        "              present_node_index = i\n",
        "              #print(list(poped.values())[0])\n",
        "              present_node_cost = list(poped.values())[0]\n",
        "              break\n",
        "          if self.straight_lines[str(i)]['Name'] == target:\n",
        "            break\n",
        "          new_paths = self.search_neighbours_with_cost(present_node_index, present_node_cost)\n",
        "          print(\"new_paths searched\")\n",
        "          for i in range(len(new_paths.values())):\n",
        "            #print(list(new_paths)[i])\n",
        "            self.new_paths = []\n",
        "            for key, value in new_paths.items():\n",
        "              self.new_paths.append({str(key):value})\n",
        "            #print(new_paths2)\n",
        "            self.priority_queue = self.heap_push(self.new_paths[i])\n",
        "          #self.priority_queue, poped = self.heap_pop()\n",
        "          print(\"pushed, {} poped {} and previously_visited_nodes {}\".format(self.priority_queue, poped, self.previously_visited_nodes))\n",
        "\n",
        "\n",
        "        return self.priority_queue, poped, self.paths[len(self.paths)-1]\n"
      ],
      "metadata": {
        "id": "d1nH2M1-zQk0"
      },
      "execution_count": 3,
      "outputs": []
    },
    {
      "cell_type": "code",
      "source": [
        "GRAPH = {\n",
        "            'Arad': {'Sibiu': 140, 'Zerind': 75, 'Timisoara': 118},\n",
        "            'Zerind': {'Arad': 75, 'Oradea': 71},\n",
        "            'Oradea': {'Zerind': 71, 'Sibiu': 151},\n",
        "            'Sibiu': {'Arad': 140, 'Oradea': 151, 'Fagaras': 99, 'Rimnicu': 80},\n",
        "            'Timisoara': {'Arad': 118, 'Lugoj': 111},\n",
        "            'Lugoj': {'Timisoara': 111, 'Mehadia': 70},\n",
        "            'Mehadia': {'Lugoj': 70, 'Drobeta': 75},\n",
        "            'Drobeta': {'Mehadia': 75, 'Craiova': 120},\n",
        "            'Craiova': {'Drobeta': 120, 'Rimnicu': 146, 'Pitesti': 138},\n",
        "            'Rimnicu': {'Sibiu': 80, 'Craiova': 146, 'Pitesti': 97},\n",
        "            'Fagaras': {'Sibiu': 99, 'Bucharest': 211},\n",
        "            'Pitesti': {'Rimnicu': 97, 'Craiova': 138, 'Bucharest': 101},\n",
        "            'Bucharest': {'Fagaras': 211, 'Pitesti': 101, 'Giurgiu': 90, 'Urziceni': 85},\n",
        "            'Giurgiu': {'Bucharest': 90},\n",
        "            'Urziceni': {'Bucharest': 85, 'Vaslui': 142, 'Hirsova': 98},\n",
        "            'Hirsova': {'Urziceni': 98, 'Eforie': 86},\n",
        "            'Eforie': {'Hirsova': 86},\n",
        "            'Vaslui': {'Iasi': 92, 'Urziceni': 142},\n",
        "            'Iasi': {'Vaslui': 92, 'Neamt': 87},\n",
        "            'Neamt': {'Iasi': 87}\n",
        "        }\n",
        "\n",
        "\n",
        "\n",
        "\n",
        "# HERE THE STRAIGHT LINE DISTANCE VALUES ARE IN REFERENCE TO BUCHAREST AS THE DESTINATION\n",
        "straight_line = {\n",
        "    '0': {'Name': 'Arad', 'Distance': 366, 'Order': 0},\n",
        "    '1': {'Name': 'Zerind', 'Distance': 374, 'Order': 1},\n",
        "    '2': {'Name': 'Oradea', 'Distance': 380, 'Order': 2},\n",
        "    '3': {'Name': 'Sibiu', 'Distance': 253, 'Order': 3},\n",
        "    '4': {'Name': 'Timisoara', 'Distance': 329, 'Order': 4},\n",
        "    '5': {'Name': 'Lugoj', 'Distance': 244, 'Order': 5},\n",
        "    '6': {'Name': 'Mehadia', 'Distance': 241, 'Order': 6},\n",
        "    '7': {'Name': 'Drobeta', 'Distance': 242, 'Order': 7},\n",
        "    '8': {'Name': 'Craiova', 'Distance': 160, 'Order': 8},\n",
        "    '9': {'Name': 'Rimnicu', 'Distance': 193, 'Order': 9},\n",
        "    '10': {'Name': 'Fagaras', 'Distance': 176, 'Order': 10},\n",
        "    '11': {'Name': 'Pitesti', 'Distance': 100, 'Order': 11},\n",
        "    '12': {'Name': 'Bucharest', 'Distance': 0, 'Order': 12},\n",
        "    '13': {'Name': 'Giurgiu', 'Distance': 77, 'Order': 13},\n",
        "    '14': {'Name': 'Urziceni', 'Distance': 80, 'Order': 14},\n",
        "    '15': {'Name': 'Hirsova', 'Distance': 151, 'Order': 15},\n",
        "    '16': {'Name': 'Eforie', 'Distance': 161, 'Order': 16},\n",
        "    '17': {'Name': 'Vaslui', 'Distance': 199, 'Order': 17},\n",
        "    '18': {'Name': 'Iasi', 'Distance': 226, 'Order': 18},\n",
        "    '19': {'Name': 'Neamt', 'Distance': 234, 'Order': 19}\n",
        "}\n"
      ],
      "metadata": {
        "id": "lOPGU-W7_msn"
      },
      "execution_count": 4,
      "outputs": []
    },
    {
      "cell_type": "code",
      "source": [
        "Values = []\n",
        "\n",
        "for i in range(len(straight_line)):\n",
        "  Values.append(straight_line[str(i)]['Name'])"
      ],
      "metadata": {
        "id": "u9PoFcRQCOF8"
      },
      "execution_count": 5,
      "outputs": []
    },
    {
      "cell_type": "code",
      "source": [
        "number_of_nodes = len(straight_line)\n",
        "edges = []\n",
        "for i in range(number_of_nodes):\n",
        "  city_1 = straight_line[str(i)]['Name']\n",
        "  for key in GRAPH[city_1]:\n",
        "    for j in range(number_of_nodes):\n",
        "      if straight_line[str(j)]['Name'] == key:\n",
        "        edges.append([i,j])"
      ],
      "metadata": {
        "id": "NkPTO815_x3g"
      },
      "execution_count": 6,
      "outputs": []
    },
    {
      "cell_type": "code",
      "source": [
        "Tree_edges = create_tree(number_of_nodes, edges)"
      ],
      "metadata": {
        "id": "0WHLNB9U_6PD"
      },
      "execution_count": 7,
      "outputs": []
    },
    {
      "cell_type": "code",
      "source": [
        "ucs = UNIFORM_COST_SEARCH(Tree_edges, Values, GRAPH, straight_line)"
      ],
      "metadata": {
        "id": "H_pcfTZh_8F-"
      },
      "execution_count": 8,
      "outputs": []
    },
    {
      "cell_type": "code",
      "source": [
        "#ucs.search_neighbours_with_cost(0,100)"
      ],
      "metadata": {
        "id": "CMeQJtKQx63Y"
      },
      "execution_count": 9,
      "outputs": []
    },
    {
      "cell_type": "code",
      "source": [
        "queue, poped, optimal_path = ucs.run_ucs('Bucharest')"
      ],
      "metadata": {
        "id": "4lLJOuwXC4g2",
        "colab": {
          "base_uri": "https://localhost:8080/"
        },
        "outputId": "f52ca6cb-296b-4639-c4a2-66b6f47f6d40"
      },
      "execution_count": 10,
      "outputs": [
        {
          "output_type": "stream",
          "name": "stdout",
          "text": [
            "new_paths searched\n",
            "pushed, [{'Zerind': 75}, {'Timisoara': 118}, {'Sibiu': 140}] poped {'Arad': 0} and previously_visited_nodes ['Arad']\n",
            "new_paths searched\n",
            "pushed, [{'Timisoara': 118}, {'Sibiu': 140}, {'Oradea': 146}] poped {'Zerind': 75} and previously_visited_nodes ['Arad', 'Zerind']\n",
            "new_paths searched\n",
            "pushed, [{'Sibiu': 140}, {'Oradea': 146}, {'Lugoj': 229}] poped {'Timisoara': 118} and previously_visited_nodes ['Arad', 'Zerind', 'Timisoara']\n",
            "new_paths searched\n",
            "pushed, [{'Oradea': 146}, {'Rimnicu': 220}, {'Lugoj': 229}, {'Fagaras': 239}, {'Oradea': 291}] poped {'Sibiu': 140} and previously_visited_nodes ['Arad', 'Zerind', 'Timisoara', 'Sibiu']\n",
            "new_paths searched\n",
            "pushed, [{'Rimnicu': 220}, {'Fagaras': 239}, {'Lugoj': 229}, {'Oradea': 291}] poped {'Oradea': 146} and previously_visited_nodes ['Arad', 'Zerind', 'Timisoara', 'Sibiu', 'Oradea']\n",
            "new_paths searched\n",
            "pushed, [{'Lugoj': 229}, {'Fagaras': 239}, {'Oradea': 291}, {'Craiova': 366}, {'Pitesti': 317}] poped {'Rimnicu': 220} and previously_visited_nodes ['Arad', 'Zerind', 'Timisoara', 'Sibiu', 'Oradea', 'Rimnicu']\n",
            "new_paths searched\n",
            "pushed, [{'Fagaras': 239}, {'Pitesti': 317}, {'Oradea': 291}, {'Craiova': 366}, {'Mehadia': 299}] poped {'Lugoj': 229} and previously_visited_nodes ['Arad', 'Zerind', 'Timisoara', 'Sibiu', 'Oradea', 'Rimnicu', 'Lugoj']\n",
            "new_paths searched\n",
            "pushed, [{'Oradea': 291}, {'Pitesti': 317}, {'Mehadia': 299}, {'Craiova': 366}, {'Bucharest': 450}] poped {'Fagaras': 239} and previously_visited_nodes ['Arad', 'Zerind', 'Timisoara', 'Sibiu', 'Oradea', 'Rimnicu', 'Lugoj', 'Fagaras']\n",
            "new_paths searched\n",
            "pushed, [{'Mehadia': 299}, {'Pitesti': 317}, {'Bucharest': 450}, {'Craiova': 366}] poped {'Oradea': 291} and previously_visited_nodes ['Arad', 'Zerind', 'Timisoara', 'Sibiu', 'Oradea', 'Rimnicu', 'Lugoj', 'Fagaras', 'Oradea']\n",
            "new_paths searched\n",
            "pushed, [{'Pitesti': 317}, {'Craiova': 366}, {'Bucharest': 450}, {'Drobeta': 374}] poped {'Mehadia': 299} and previously_visited_nodes ['Arad', 'Zerind', 'Timisoara', 'Sibiu', 'Oradea', 'Rimnicu', 'Lugoj', 'Fagaras', 'Oradea', 'Mehadia']\n",
            "new_paths searched\n",
            "pushed, [{'Craiova': 366}, {'Drobeta': 374}, {'Bucharest': 418}, {'Craiova': 455}, {'Bucharest': 450}] poped {'Pitesti': 317} and previously_visited_nodes ['Arad', 'Zerind', 'Timisoara', 'Sibiu', 'Oradea', 'Rimnicu', 'Lugoj', 'Fagaras', 'Oradea', 'Mehadia', 'Pitesti']\n",
            "new_paths searched\n",
            "pushed, [{'Drobeta': 374}, {'Bucharest': 450}, {'Bucharest': 418}, {'Craiova': 455}, {'Drobeta': 486}] poped {'Craiova': 366} and previously_visited_nodes ['Arad', 'Zerind', 'Timisoara', 'Sibiu', 'Oradea', 'Rimnicu', 'Lugoj', 'Fagaras', 'Oradea', 'Mehadia', 'Pitesti', 'Craiova']\n",
            "new_paths searched\n",
            "pushed, [{'Bucharest': 418}, {'Bucharest': 450}, {'Drobeta': 486}, {'Craiova': 455}] poped {'Drobeta': 374} and previously_visited_nodes ['Arad', 'Zerind', 'Timisoara', 'Sibiu', 'Oradea', 'Rimnicu', 'Lugoj', 'Fagaras', 'Oradea', 'Mehadia', 'Pitesti', 'Craiova', 'Drobeta']\n"
          ]
        }
      ]
    },
    {
      "cell_type": "code",
      "source": [
        "optimal_path"
      ],
      "metadata": {
        "colab": {
          "base_uri": "https://localhost:8080/"
        },
        "id": "IWk_MKLmKOT3",
        "outputId": "1ba7a6c3-2c44-466c-993d-a56713b7c4e4"
      },
      "execution_count": 11,
      "outputs": [
        {
          "output_type": "execute_result",
          "data": {
            "text/plain": [
              "[0, 3, 9, 11, 12]"
            ]
          },
          "metadata": {},
          "execution_count": 11
        }
      ]
    },
    {
      "cell_type": "code",
      "source": [
        "ucs.paths"
      ],
      "metadata": {
        "colab": {
          "base_uri": "https://localhost:8080/"
        },
        "id": "8Z_YRDygrKR8",
        "outputId": "4b4d823e-797a-4ce7-a878-dcf4f651edbd"
      },
      "execution_count": 12,
      "outputs": [
        {
          "output_type": "execute_result",
          "data": {
            "text/plain": [
              "[[0],\n",
              " [0, 1],\n",
              " [0, 4],\n",
              " [0, 3],\n",
              " [0, 1, 2],\n",
              " [0, 3, 9],\n",
              " [0, 4, 5],\n",
              " [0, 3, 10],\n",
              " [0, 1, 2],\n",
              " [0, 4, 5, 6],\n",
              " [0, 3, 9, 11],\n",
              " [0, 4, 5, 6, 7],\n",
              " [0, 3, 10, 12],\n",
              " [0, 3, 9, 11, 12]]"
            ]
          },
          "metadata": {},
          "execution_count": 12
        }
      ]
    },
    {
      "cell_type": "code",
      "source": [
        "poped"
      ],
      "metadata": {
        "colab": {
          "base_uri": "https://localhost:8080/"
        },
        "id": "E6btF93grmzF",
        "outputId": "8bee791a-6f03-4ea1-f363-6772a872ccbb"
      },
      "execution_count": 13,
      "outputs": [
        {
          "output_type": "execute_result",
          "data": {
            "text/plain": [
              "{'Bucharest': 418}"
            ]
          },
          "metadata": {},
          "execution_count": 13
        }
      ]
    },
    {
      "cell_type": "code",
      "source": [
        "poped"
      ],
      "metadata": {
        "colab": {
          "base_uri": "https://localhost:8080/"
        },
        "id": "T95Gqd7ktWB3",
        "outputId": "b02d39da-3642-44e5-948d-53c34499aaf7"
      },
      "execution_count": 14,
      "outputs": [
        {
          "output_type": "execute_result",
          "data": {
            "text/plain": [
              "{'Bucharest': 418}"
            ]
          },
          "metadata": {},
          "execution_count": 14
        }
      ]
    },
    {
      "cell_type": "markdown",
      "source": [
        "# TestCase 1: Small complete binary tree"
      ],
      "metadata": {
        "id": "hrW1qbWGt0eN"
      }
    },
    {
      "cell_type": "code",
      "execution_count": 15,
      "metadata": {
        "id": "vuWL-7kFV25F",
        "colab": {
          "base_uri": "https://localhost:8080/"
        },
        "outputId": "59ce1607-bf03-4299-ab2a-9f10805a517a"
      },
      "outputs": [
        {
          "output_type": "stream",
          "name": "stdout",
          "text": [
            "After DnQueue  []\n",
            "Front:  0 Node:  1\n",
            "After EnQueue  [1.]\n",
            "Front:  0 Node:  2\n",
            "After EnQueue  [1. 2.]\n",
            "After DnQueue  [2.]\n",
            "Front:  1 Node:  3\n",
            "After EnQueue  [2. 3.]\n",
            "Front:  1 Node:  4\n",
            "After EnQueue  [2. 3. 4.]\n",
            "After DnQueue  [3. 4.]\n",
            "Front:  2 Node:  5\n",
            "After EnQueue  [3. 4. 5.]\n",
            "Goal Reached -3 5\n",
            "The Optimal Path index by BFS [0, 2, 5]\n",
            "closed list [] and stack [0] and depth 99999\n",
            "closed list [] and stack [0. 1.] and depth 99999\n",
            "closed list [] and stack [0. 1. 3.] and depth 99999\n",
            "closed list [3] and stack [0. 1.] and depth 99999\n",
            "closed list [3] and stack [0. 1. 4.] and depth 99999\n",
            "closed list [3, 4] and stack [0. 1.] and depth 99999\n",
            "closed list [3, 4, 1] and stack [0.] and depth 99999\n",
            "closed list [3, 4, 1] and stack [0. 2.] and depth 99999\n",
            "closed list [3, 4, 1] and stack [0. 2. 5.] and depth 99999\n",
            "The Optimal Path index by DFS [0, 2, 5]\n",
            "closed list [] and stack [0] and depth 1\n",
            "closed list [] and stack [0. 1.] and depth 1\n",
            "closed list [1] and stack [0.] and depth 1\n",
            "closed list [1] and stack [0. 2.] and depth 1\n",
            "closed list [1, 2] and stack [0.] and depth 1\n",
            "closed list [1, 2, 0] and stack [] and depth 1\n",
            "No solution Exist! check the input node values\n",
            "No solution Exist! check the input node values\n",
            "No solution Exist! check the input node values\n",
            "No solution Exist! check the input node values\n",
            "No solution Exist! check the input node values\n",
            "No solution Exist! check the input node values\n",
            "The Optimal Path index by Depth limited Search -1\n",
            "closed list [] and stack [0] and depth 0\n",
            "closed list [0] and stack [] and depth 0\n",
            "No solution Exist! check the input node values\n",
            "No solution Exist! check the input node values\n",
            "1 -1\n",
            "closed list [] and stack [0] and depth 1\n",
            "closed list [] and stack [0. 1.] and depth 1\n",
            "closed list [1] and stack [0.] and depth 1\n",
            "closed list [1] and stack [0. 2.] and depth 1\n",
            "closed list [1, 2] and stack [0.] and depth 1\n",
            "closed list [1, 2, 0] and stack [] and depth 1\n",
            "No solution Exist! check the input node values\n",
            "No solution Exist! check the input node values\n",
            "No solution Exist! check the input node values\n",
            "No solution Exist! check the input node values\n",
            "No solution Exist! check the input node values\n",
            "No solution Exist! check the input node values\n",
            "2 -1\n",
            "closed list [] and stack [0] and depth 2\n",
            "closed list [] and stack [0. 1.] and depth 2\n",
            "closed list [] and stack [0. 1. 3.] and depth 2\n",
            "closed list [3] and stack [0. 1.] and depth 2\n",
            "closed list [3] and stack [0. 1. 4.] and depth 2\n",
            "closed list [3, 4] and stack [0. 1.] and depth 2\n",
            "closed list [3, 4, 1] and stack [0.] and depth 2\n",
            "closed list [3, 4, 1] and stack [0. 2.] and depth 2\n",
            "closed list [3, 4, 1] and stack [0. 2. 5.] and depth 2\n",
            "3 [0, 2, 5]\n",
            "The Optimal Path index by iterative DFS [0, 2, 5]\n"
          ]
        }
      ],
      "source": [
        "Tree_edges = create_tree(7, [[0,1], [2,0], [1,3], [1,4], [2,5], [2,6]])\n",
        "fitted_tree = BFS(Tree_edges, [11, 1, 4, 17, 8, -3, 17])\n",
        "optimal_path = fitted_tree.run_bfs(0, -3)\n",
        "print(\"The Optimal Path index by BFS\", optimal_path)\n",
        "\n",
        "\n",
        "fitted_tree = DFS(Tree_edges, [11, 1, 4, 17, 8, -3, 17])\n",
        "optimal_path = fitted_tree.run_dfs(0, -3)\n",
        "print(\"The Optimal Path index by DFS\", optimal_path)\n",
        "\n",
        "\n",
        "\n",
        "fitted_tree = DFS(Tree_edges, [11, 1, 4, 17, 8, -3, 17])\n",
        "optimal_path = fitted_tree.run_dfs(0, -3, 1)\n",
        "print(\"The Optimal Path index by Depth limited Search\", optimal_path)\n",
        "\n",
        "\n",
        "\n",
        "fitted_tree = DFS(Tree_edges, [11, 1, 4, 17, 8, -3, 17])\n",
        "optimal_path = fitted_tree.run_iterative_dfs(0, -3)\n",
        "print(\"The Optimal Path index by iterative DFS\", optimal_path)"
      ]
    },
    {
      "cell_type": "markdown",
      "source": [
        "# TestCase 2: Check on non complete tree"
      ],
      "metadata": {
        "id": "qUhVAzWbtqVl"
      }
    },
    {
      "cell_type": "code",
      "source": [
        "Tree_edges = create_tree(7, [[0,1], [2,0], [1,3], [1,4], [1,5], [2,6]])\n",
        "fitted_tree = BFS(Tree_edges, [11, 1, 4, 17, 8, -3, 17])\n",
        "optimal_path = fitted_tree.run_bfs(0, 17)\n",
        "print(\"The Optimal Path index by BFS\", optimal_path)\n",
        "\n",
        "\n",
        "fitted_tree = DFS(Tree_edges, [11, 1, 4, 17, 8, -3, 17])\n",
        "optimal_path = fitted_tree.run_dfs(0, 17)\n",
        "print(\"The Optimal Path index by DFS\", optimal_path)\n",
        "\n",
        "\n",
        "\n",
        "fitted_tree = DFS(Tree_edges, [11, 1, 4, 17, 8, -3, 17])\n",
        "optimal_path = fitted_tree.run_dfs(0, 17, 6)\n",
        "print(\"The Optimal Path index by Depth Limited Search\", optimal_path)\n",
        "\n",
        "\n",
        "\n",
        "fitted_tree = DFS(Tree_edges, [11, 1, 4, 17, 8, -3, 17])\n",
        "optimal_path = fitted_tree.run_iterative_dfs(0, 17)\n",
        "print(\"The Optimal Path index by iterative DFS\", optimal_path)"
      ],
      "metadata": {
        "colab": {
          "base_uri": "https://localhost:8080/"
        },
        "id": "R37nMf2im59o",
        "outputId": "e4a25beb-804a-454c-8083-ddca8f360339"
      },
      "execution_count": 16,
      "outputs": [
        {
          "output_type": "stream",
          "name": "stdout",
          "text": [
            "After DnQueue  []\n",
            "Front:  0 Node:  1\n",
            "After EnQueue  [1.]\n",
            "Front:  0 Node:  2\n",
            "After EnQueue  [1. 2.]\n",
            "After DnQueue  [2.]\n",
            "Front:  1 Node:  3\n",
            "After EnQueue  [2. 3.]\n",
            "Goal Reached 17 3\n",
            "The Optimal Path index by BFS [0, 1, 3]\n",
            "closed list [] and stack [0] and depth 99999\n",
            "closed list [] and stack [0. 1.] and depth 99999\n",
            "closed list [] and stack [0. 1. 3.] and depth 99999\n",
            "The Optimal Path index by DFS [0, 1, 3]\n",
            "closed list [] and stack [0] and depth 6\n",
            "closed list [] and stack [0. 1.] and depth 6\n",
            "closed list [] and stack [0. 1. 3.] and depth 6\n",
            "The Optimal Path index by Depth Limited Search [0, 1, 3]\n",
            "closed list [] and stack [0] and depth 0\n",
            "closed list [0] and stack [] and depth 0\n",
            "No solution Exist! check the input node values\n",
            "No solution Exist! check the input node values\n",
            "1 -1\n",
            "closed list [] and stack [0] and depth 1\n",
            "closed list [] and stack [0. 1.] and depth 1\n",
            "closed list [1] and stack [0.] and depth 1\n",
            "closed list [1] and stack [0. 2.] and depth 1\n",
            "closed list [1, 2] and stack [0.] and depth 1\n",
            "closed list [1, 2, 0] and stack [] and depth 1\n",
            "No solution Exist! check the input node values\n",
            "No solution Exist! check the input node values\n",
            "No solution Exist! check the input node values\n",
            "No solution Exist! check the input node values\n",
            "No solution Exist! check the input node values\n",
            "No solution Exist! check the input node values\n",
            "2 -1\n",
            "closed list [] and stack [0] and depth 2\n",
            "closed list [] and stack [0. 1.] and depth 2\n",
            "closed list [] and stack [0. 1. 3.] and depth 2\n",
            "3 [0, 1, 3]\n",
            "The Optimal Path index by iterative DFS [0, 1, 3]\n"
          ]
        }
      ]
    },
    {
      "cell_type": "markdown",
      "source": [
        "# TestCase 3: Check on bigger Tree"
      ],
      "metadata": {
        "id": "kD1JHZXJs37o"
      }
    },
    {
      "cell_type": "code",
      "source": [
        "Tree_edges = create_tree(9, [[0,1], [2,0], [1,3], [1,4], [1,5], [2,6], [3,7], [3,8]])\n",
        "fitted_tree = BFS(Tree_edges, [11, 1, 4, 17, 8, -3, 17, 15, -1])\n",
        "optimal_path = fitted_tree.run_bfs(0, 15)\n",
        "print(\"The Optimal Path index by BFS \", optimal_path)\n",
        "\n",
        "\n",
        "\n",
        "\n",
        "fitted_tree = DFS(Tree_edges, [11, 1, 4, 17, 8, -3, 17, 15, -1])\n",
        "optimal_path = fitted_tree.run_dfs(0, 15)\n",
        "print(\"The Optimal Path index by DFS \", optimal_path)\n",
        "\n",
        "\n",
        "\n",
        "fitted_tree = DFS(Tree_edges, [11, 1, 4, 17, 8, -3, 17, 15, -1])\n",
        "optimal_path = fitted_tree.run_dfs(0, 15, 2)\n",
        "print(\"The Optimal Path index by Depth Limited Search \", optimal_path)\n",
        "\n",
        "\n",
        "\n",
        "fitted_tree = DFS(Tree_edges, [11, 1, 4, 17, 8, -3, 17, 15, -1])\n",
        "optimal_path = fitted_tree.run_iterative_dfs(0, 15)\n",
        "print(\"The Optimal Path index by iterative DFS \", optimal_path)"
      ],
      "metadata": {
        "colab": {
          "base_uri": "https://localhost:8080/"
        },
        "id": "Ui5-fbZSnRyx",
        "outputId": "f5c030ed-2ee6-4c17-f8f0-2131185cbb4e"
      },
      "execution_count": 17,
      "outputs": [
        {
          "output_type": "stream",
          "name": "stdout",
          "text": [
            "After DnQueue  []\n",
            "Front:  0 Node:  1\n",
            "After EnQueue  [1.]\n",
            "Front:  0 Node:  2\n",
            "After EnQueue  [1. 2.]\n",
            "After DnQueue  [2.]\n",
            "Front:  1 Node:  3\n",
            "After EnQueue  [2. 3.]\n",
            "Front:  1 Node:  4\n",
            "After EnQueue  [2. 3. 4.]\n",
            "Front:  1 Node:  5\n",
            "After EnQueue  [2. 3. 4. 5.]\n",
            "After DnQueue  [3. 4. 5.]\n",
            "Front:  2 Node:  6\n",
            "After EnQueue  [3. 4. 5. 6.]\n",
            "After DnQueue  [4. 5. 6.]\n",
            "Front:  3 Node:  7\n",
            "After EnQueue  [4. 5. 6. 7.]\n",
            "Goal Reached 15 7\n",
            "The Optimal Path index by BFS  [0, 1, 3, 7]\n",
            "closed list [] and stack [0] and depth 99999\n",
            "closed list [] and stack [0. 1.] and depth 99999\n",
            "closed list [] and stack [0. 1. 3.] and depth 99999\n",
            "closed list [] and stack [0. 1. 3. 7.] and depth 99999\n",
            "The Optimal Path index by DFS  [0, 1, 3, 7]\n",
            "closed list [] and stack [0] and depth 2\n",
            "closed list [] and stack [0. 1.] and depth 2\n",
            "closed list [] and stack [0. 1. 3.] and depth 2\n",
            "closed list [3] and stack [0. 1.] and depth 2\n",
            "closed list [3] and stack [0. 1. 4.] and depth 2\n",
            "closed list [3, 4] and stack [0. 1.] and depth 2\n",
            "closed list [3, 4] and stack [0. 1. 5.] and depth 2\n",
            "closed list [3, 4, 5] and stack [0. 1.] and depth 2\n",
            "closed list [3, 4, 5, 1] and stack [0.] and depth 2\n",
            "closed list [3, 4, 5, 1] and stack [0. 2.] and depth 2\n",
            "closed list [3, 4, 5, 1] and stack [0. 2. 6.] and depth 2\n",
            "closed list [3, 4, 5, 1, 6] and stack [0. 2.] and depth 2\n",
            "closed list [3, 4, 5, 1, 6, 2] and stack [0.] and depth 2\n",
            "closed list [3, 4, 5, 1, 6, 2, 0] and stack [] and depth 2\n",
            "No solution Exist! check the input node values\n",
            "No solution Exist! check the input node values\n",
            "No solution Exist! check the input node values\n",
            "No solution Exist! check the input node values\n",
            "No solution Exist! check the input node values\n",
            "No solution Exist! check the input node values\n",
            "No solution Exist! check the input node values\n",
            "No solution Exist! check the input node values\n",
            "No solution Exist! check the input node values\n",
            "No solution Exist! check the input node values\n",
            "No solution Exist! check the input node values\n",
            "No solution Exist! check the input node values\n",
            "No solution Exist! check the input node values\n",
            "No solution Exist! check the input node values\n",
            "The Optimal Path index by Depth Limited Search  -1\n",
            "closed list [] and stack [0] and depth 0\n",
            "closed list [0] and stack [] and depth 0\n",
            "No solution Exist! check the input node values\n",
            "No solution Exist! check the input node values\n",
            "1 -1\n",
            "closed list [] and stack [0] and depth 1\n",
            "closed list [] and stack [0. 1.] and depth 1\n",
            "closed list [1] and stack [0.] and depth 1\n",
            "closed list [1] and stack [0. 2.] and depth 1\n",
            "closed list [1, 2] and stack [0.] and depth 1\n",
            "closed list [1, 2, 0] and stack [] and depth 1\n",
            "No solution Exist! check the input node values\n",
            "No solution Exist! check the input node values\n",
            "No solution Exist! check the input node values\n",
            "No solution Exist! check the input node values\n",
            "No solution Exist! check the input node values\n",
            "No solution Exist! check the input node values\n",
            "2 -1\n",
            "closed list [] and stack [0] and depth 2\n",
            "closed list [] and stack [0. 1.] and depth 2\n",
            "closed list [] and stack [0. 1. 3.] and depth 2\n",
            "closed list [3] and stack [0. 1.] and depth 2\n",
            "closed list [3] and stack [0. 1. 4.] and depth 2\n",
            "closed list [3, 4] and stack [0. 1.] and depth 2\n",
            "closed list [3, 4] and stack [0. 1. 5.] and depth 2\n",
            "closed list [3, 4, 5] and stack [0. 1.] and depth 2\n",
            "closed list [3, 4, 5, 1] and stack [0.] and depth 2\n",
            "closed list [3, 4, 5, 1] and stack [0. 2.] and depth 2\n",
            "closed list [3, 4, 5, 1] and stack [0. 2. 6.] and depth 2\n",
            "closed list [3, 4, 5, 1, 6] and stack [0. 2.] and depth 2\n",
            "closed list [3, 4, 5, 1, 6, 2] and stack [0.] and depth 2\n",
            "closed list [3, 4, 5, 1, 6, 2, 0] and stack [] and depth 2\n",
            "No solution Exist! check the input node values\n",
            "No solution Exist! check the input node values\n",
            "No solution Exist! check the input node values\n",
            "No solution Exist! check the input node values\n",
            "No solution Exist! check the input node values\n",
            "No solution Exist! check the input node values\n",
            "No solution Exist! check the input node values\n",
            "No solution Exist! check the input node values\n",
            "No solution Exist! check the input node values\n",
            "No solution Exist! check the input node values\n",
            "No solution Exist! check the input node values\n",
            "No solution Exist! check the input node values\n",
            "No solution Exist! check the input node values\n",
            "No solution Exist! check the input node values\n",
            "3 -1\n",
            "closed list [] and stack [0] and depth 3\n",
            "closed list [] and stack [0. 1.] and depth 3\n",
            "closed list [] and stack [0. 1. 3.] and depth 3\n",
            "closed list [] and stack [0. 1. 3. 7.] and depth 3\n",
            "4 [0, 1, 3, 7]\n",
            "The Optimal Path index by iterative DFS  [0, 1, 3, 7]\n"
          ]
        }
      ]
    },
    {
      "cell_type": "markdown",
      "source": [
        "# TestCase 4: Solution is at the root of the tree"
      ],
      "metadata": {
        "id": "Vbfi-JDrrpL_"
      }
    },
    {
      "cell_type": "code",
      "execution_count": 18,
      "metadata": {
        "colab": {
          "base_uri": "https://localhost:8080/"
        },
        "id": "gR8Ao3mtWP2w",
        "outputId": "8306b51f-f040-469b-ec67-643b2739b8e9"
      },
      "outputs": [
        {
          "output_type": "stream",
          "name": "stdout",
          "text": [
            "closed list [] and stack [0] and depth 99999\n",
            "The Optimal Path index by DFS  [0]\n",
            "closed list [] and stack [0] and depth 1\n",
            "The Optimal Path index by Depth Limited Search  [0]\n",
            "The Optimal Path index by BFS  [0]\n",
            "closed list [] and stack [0] and depth 0\n",
            "1 [0]\n",
            "The Optimal Path index by iterative DFS  [0]\n"
          ]
        }
      ],
      "source": [
        "Tree_edges = create_tree(9, [[0,1], [2,0], [1,3], [1,4], [1,5], [2,6], [3,7], [3,8]])\n",
        "fitted_tree = DFS(Tree_edges, [11, 1, 4, 17, 8, -3, 17, 11, -1])\n",
        "optimal_path = fitted_tree.run_dfs(0, 11)\n",
        "print(\"The Optimal Path index by DFS \", optimal_path)\n",
        "\n",
        "\n",
        "\n",
        "Tree_edges = create_tree(9, [[0,1], [2,0], [1,3], [1,4], [1,5], [2,6], [3,7], [3,8]])\n",
        "fitted_tree = DFS(Tree_edges, [11, 1, 4, 17, 8, -3, 17, 11, -1])\n",
        "optimal_path = fitted_tree.run_dfs(0, 11, 1)\n",
        "print(\"The Optimal Path index by Depth Limited Search \", optimal_path)\n",
        "\n",
        "\n",
        "\n",
        "\n",
        "fitted_tree = BFS(Tree_edges, [11, 1, 4, 17, 8, -3, 17, 11, -1])\n",
        "optimal_path = fitted_tree.run_bfs(0, 11)\n",
        "print(\"The Optimal Path index by BFS \", optimal_path)\n",
        "\n",
        "\n",
        "\n",
        "fitted_tree = DFS(Tree_edges, [11, 1, 4, 17, 8, -3, 17, 11, -1])\n",
        "optimal_path = fitted_tree.run_iterative_dfs(0, 11)\n",
        "print(\"The Optimal Path index by iterative DFS \", optimal_path)"
      ]
    },
    {
      "cell_type": "markdown",
      "source": [
        "# TestCase 5: Solution does not exists"
      ],
      "metadata": {
        "id": "6O58L0Udrac9"
      }
    },
    {
      "cell_type": "code",
      "source": [
        "Tree_edges = create_tree(9, [[0,1], [2,0], [1,3], [1,4], [1,5], [2,6], [3,7], [3,8]])\n",
        "fitted_tree = BFS(Tree_edges, [11, 1, 4, 17, 8, -3, 17, 11, -1])\n",
        "optimal_path = fitted_tree.run_bfs(0, 110)\n",
        "print(\"The Optimal Path index by bfs\", optimal_path)\n",
        "\n",
        "\n",
        "\n",
        "\n",
        "fitted_tree = DFS(Tree_edges, [11, 1, 4, 17, 8, -3, 17, 11, -1])\n",
        "optimal_path = fitted_tree.run_dfs(0, 110)\n",
        "print(\"The Optimal Path index by dfs\", optimal_path)\n",
        "\n",
        "\n",
        "\n",
        "\n",
        "fitted_tree = DFS(Tree_edges, [11, 1, 4, 17, 8, -3, 17, 11, -1])\n",
        "optimal_path = fitted_tree.run_dfs(0, 110, 2)\n",
        "print(\"The Optimal Path index by depth limited search\", optimal_path)\n",
        "\n",
        "\n",
        "\n",
        "\n",
        "\n",
        "\n",
        "fitted_tree = DFS(Tree_edges, [11, 1, 4, 17, 8, -3, 17, 11, -1])\n",
        "optimal_path = fitted_tree.run_iterative_dfs(0, 110)\n",
        "print(\"The Optimal Path index by iterative dfs\", optimal_path)"
      ],
      "metadata": {
        "colab": {
          "base_uri": "https://localhost:8080/"
        },
        "id": "BT-DOgop1UFE",
        "outputId": "2b5ffea1-243e-4fd6-c223-704d59f1867c"
      },
      "execution_count": 19,
      "outputs": [
        {
          "output_type": "stream",
          "name": "stdout",
          "text": [
            "After DnQueue  []\n",
            "Front:  0 Node:  1\n",
            "After EnQueue  [1.]\n",
            "Front:  0 Node:  2\n",
            "After EnQueue  [1. 2.]\n",
            "After DnQueue  [2.]\n",
            "Front:  1 Node:  3\n",
            "After EnQueue  [2. 3.]\n",
            "Front:  1 Node:  4\n",
            "After EnQueue  [2. 3. 4.]\n",
            "Front:  1 Node:  5\n",
            "After EnQueue  [2. 3. 4. 5.]\n",
            "After DnQueue  [3. 4. 5.]\n",
            "Front:  2 Node:  6\n",
            "After EnQueue  [3. 4. 5. 6.]\n",
            "After DnQueue  [4. 5. 6.]\n",
            "Front:  3 Node:  7\n",
            "After EnQueue  [4. 5. 6. 7.]\n",
            "Front:  3 Node:  8\n",
            "After EnQueue  [4. 5. 6. 7. 8.]\n",
            "After DnQueue  [5. 6. 7. 8.]\n",
            "After DnQueue  [6. 7. 8.]\n",
            "After DnQueue  [7. 8.]\n",
            "After DnQueue  [8.]\n",
            "After DnQueue  []\n",
            "No solution Exist! check the input node values\n",
            "The Optimal Path index by bfs -1\n",
            "closed list [] and stack [0] and depth 99999\n",
            "closed list [] and stack [0. 1.] and depth 99999\n",
            "closed list [] and stack [0. 1. 3.] and depth 99999\n",
            "closed list [] and stack [0. 1. 3. 7.] and depth 99999\n",
            "closed list [7] and stack [0. 1. 3.] and depth 99999\n",
            "closed list [7] and stack [0. 1. 3. 8.] and depth 99999\n",
            "closed list [7, 8] and stack [0. 1. 3.] and depth 99999\n",
            "closed list [7, 8, 3] and stack [0. 1.] and depth 99999\n",
            "closed list [7, 8, 3] and stack [0. 1. 4.] and depth 99999\n",
            "closed list [7, 8, 3, 4] and stack [0. 1.] and depth 99999\n",
            "closed list [7, 8, 3, 4] and stack [0. 1. 5.] and depth 99999\n",
            "closed list [7, 8, 3, 4, 5] and stack [0. 1.] and depth 99999\n",
            "closed list [7, 8, 3, 4, 5, 1] and stack [0.] and depth 99999\n",
            "closed list [7, 8, 3, 4, 5, 1] and stack [0. 2.] and depth 99999\n",
            "closed list [7, 8, 3, 4, 5, 1] and stack [0. 2. 6.] and depth 99999\n",
            "closed list [7, 8, 3, 4, 5, 1, 6] and stack [0. 2.] and depth 99999\n",
            "closed list [7, 8, 3, 4, 5, 1, 6, 2] and stack [0.] and depth 99999\n",
            "closed list [7, 8, 3, 4, 5, 1, 6, 2, 0] and stack [] and depth 99999\n",
            "No solution Exist! check the input node values\n",
            "No solution Exist! check the input node values\n",
            "No solution Exist! check the input node values\n",
            "No solution Exist! check the input node values\n",
            "No solution Exist! check the input node values\n",
            "No solution Exist! check the input node values\n",
            "No solution Exist! check the input node values\n",
            "No solution Exist! check the input node values\n",
            "No solution Exist! check the input node values\n",
            "No solution Exist! check the input node values\n",
            "No solution Exist! check the input node values\n",
            "No solution Exist! check the input node values\n",
            "No solution Exist! check the input node values\n",
            "No solution Exist! check the input node values\n",
            "No solution Exist! check the input node values\n",
            "No solution Exist! check the input node values\n",
            "No solution Exist! check the input node values\n",
            "No solution Exist! check the input node values\n",
            "The Optimal Path index by dfs -1\n",
            "closed list [] and stack [0] and depth 2\n",
            "closed list [] and stack [0. 1.] and depth 2\n",
            "closed list [] and stack [0. 1. 3.] and depth 2\n",
            "closed list [3] and stack [0. 1.] and depth 2\n",
            "closed list [3] and stack [0. 1. 4.] and depth 2\n",
            "closed list [3, 4] and stack [0. 1.] and depth 2\n",
            "closed list [3, 4] and stack [0. 1. 5.] and depth 2\n",
            "closed list [3, 4, 5] and stack [0. 1.] and depth 2\n",
            "closed list [3, 4, 5, 1] and stack [0.] and depth 2\n",
            "closed list [3, 4, 5, 1] and stack [0. 2.] and depth 2\n",
            "closed list [3, 4, 5, 1] and stack [0. 2. 6.] and depth 2\n",
            "closed list [3, 4, 5, 1, 6] and stack [0. 2.] and depth 2\n",
            "closed list [3, 4, 5, 1, 6, 2] and stack [0.] and depth 2\n",
            "closed list [3, 4, 5, 1, 6, 2, 0] and stack [] and depth 2\n",
            "No solution Exist! check the input node values\n",
            "No solution Exist! check the input node values\n",
            "No solution Exist! check the input node values\n",
            "No solution Exist! check the input node values\n",
            "No solution Exist! check the input node values\n",
            "No solution Exist! check the input node values\n",
            "No solution Exist! check the input node values\n",
            "No solution Exist! check the input node values\n",
            "No solution Exist! check the input node values\n",
            "No solution Exist! check the input node values\n",
            "No solution Exist! check the input node values\n",
            "No solution Exist! check the input node values\n",
            "No solution Exist! check the input node values\n",
            "No solution Exist! check the input node values\n",
            "The Optimal Path index by depth limited search -1\n",
            "closed list [] and stack [0] and depth 0\n",
            "closed list [0] and stack [] and depth 0\n",
            "No solution Exist! check the input node values\n",
            "No solution Exist! check the input node values\n",
            "1 -1\n",
            "closed list [] and stack [0] and depth 1\n",
            "closed list [] and stack [0. 1.] and depth 1\n",
            "closed list [1] and stack [0.] and depth 1\n",
            "closed list [1] and stack [0. 2.] and depth 1\n",
            "closed list [1, 2] and stack [0.] and depth 1\n",
            "closed list [1, 2, 0] and stack [] and depth 1\n",
            "No solution Exist! check the input node values\n",
            "No solution Exist! check the input node values\n",
            "No solution Exist! check the input node values\n",
            "No solution Exist! check the input node values\n",
            "No solution Exist! check the input node values\n",
            "No solution Exist! check the input node values\n",
            "2 -1\n",
            "closed list [] and stack [0] and depth 2\n",
            "closed list [] and stack [0. 1.] and depth 2\n",
            "closed list [] and stack [0. 1. 3.] and depth 2\n",
            "closed list [3] and stack [0. 1.] and depth 2\n",
            "closed list [3] and stack [0. 1. 4.] and depth 2\n",
            "closed list [3, 4] and stack [0. 1.] and depth 2\n",
            "closed list [3, 4] and stack [0. 1. 5.] and depth 2\n",
            "closed list [3, 4, 5] and stack [0. 1.] and depth 2\n",
            "closed list [3, 4, 5, 1] and stack [0.] and depth 2\n",
            "closed list [3, 4, 5, 1] and stack [0. 2.] and depth 2\n",
            "closed list [3, 4, 5, 1] and stack [0. 2. 6.] and depth 2\n",
            "closed list [3, 4, 5, 1, 6] and stack [0. 2.] and depth 2\n",
            "closed list [3, 4, 5, 1, 6, 2] and stack [0.] and depth 2\n",
            "closed list [3, 4, 5, 1, 6, 2, 0] and stack [] and depth 2\n",
            "No solution Exist! check the input node values\n",
            "No solution Exist! check the input node values\n",
            "No solution Exist! check the input node values\n",
            "No solution Exist! check the input node values\n",
            "No solution Exist! check the input node values\n",
            "No solution Exist! check the input node values\n",
            "No solution Exist! check the input node values\n",
            "No solution Exist! check the input node values\n",
            "No solution Exist! check the input node values\n",
            "No solution Exist! check the input node values\n",
            "No solution Exist! check the input node values\n",
            "No solution Exist! check the input node values\n",
            "No solution Exist! check the input node values\n",
            "No solution Exist! check the input node values\n",
            "3 -1\n",
            "closed list [] and stack [0] and depth 3\n",
            "closed list [] and stack [0. 1.] and depth 3\n",
            "closed list [] and stack [0. 1. 3.] and depth 3\n",
            "closed list [] and stack [0. 1. 3. 7.] and depth 3\n",
            "closed list [7] and stack [0. 1. 3.] and depth 3\n",
            "closed list [7] and stack [0. 1. 3. 8.] and depth 3\n",
            "closed list [7, 8] and stack [0. 1. 3.] and depth 3\n",
            "closed list [7, 8, 3] and stack [0. 1.] and depth 3\n",
            "closed list [7, 8, 3] and stack [0. 1. 4.] and depth 3\n",
            "closed list [7, 8, 3, 4] and stack [0. 1.] and depth 3\n",
            "closed list [7, 8, 3, 4] and stack [0. 1. 5.] and depth 3\n",
            "closed list [7, 8, 3, 4, 5] and stack [0. 1.] and depth 3\n",
            "closed list [7, 8, 3, 4, 5, 1] and stack [0.] and depth 3\n",
            "closed list [7, 8, 3, 4, 5, 1] and stack [0. 2.] and depth 3\n",
            "closed list [7, 8, 3, 4, 5, 1] and stack [0. 2. 6.] and depth 3\n",
            "closed list [7, 8, 3, 4, 5, 1, 6] and stack [0. 2.] and depth 3\n",
            "closed list [7, 8, 3, 4, 5, 1, 6, 2] and stack [0.] and depth 3\n",
            "closed list [7, 8, 3, 4, 5, 1, 6, 2, 0] and stack [] and depth 3\n",
            "No solution Exist! check the input node values\n",
            "No solution Exist! check the input node values\n",
            "No solution Exist! check the input node values\n",
            "No solution Exist! check the input node values\n",
            "No solution Exist! check the input node values\n",
            "No solution Exist! check the input node values\n",
            "No solution Exist! check the input node values\n",
            "No solution Exist! check the input node values\n",
            "No solution Exist! check the input node values\n",
            "No solution Exist! check the input node values\n",
            "No solution Exist! check the input node values\n",
            "No solution Exist! check the input node values\n",
            "No solution Exist! check the input node values\n",
            "No solution Exist! check the input node values\n",
            "No solution Exist! check the input node values\n",
            "No solution Exist! check the input node values\n",
            "No solution Exist! check the input node values\n",
            "No solution Exist! check the input node values\n",
            "4 -1\n",
            "The Optimal Path index by iterative dfs -1\n"
          ]
        }
      ]
    }
  ],
  "metadata": {
    "colab": {
      "provenance": [],
      "authorship_tag": "ABX9TyOyB497/4mrQrq7Z1OGya9Z",
      "include_colab_link": true
    },
    "kernelspec": {
      "display_name": "Python 3",
      "name": "python3"
    },
    "language_info": {
      "name": "python"
    }
  },
  "nbformat": 4,
  "nbformat_minor": 0
}